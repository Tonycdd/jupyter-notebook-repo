{
 "cells": [
  {
   "cell_type": "code",
   "execution_count": 2,
   "id": "2b5f78f5-f4a3-4eb3-ad44-b0a4a27e8d01",
   "metadata": {},
   "outputs": [],
   "source": [
    "import numpy as np\n"
   ]
  },
  {
   "cell_type": "code",
   "execution_count": 63,
   "id": "d1b0aed1-3058-46a0-b28b-510b7d3fb146",
   "metadata": {},
   "outputs": [
    {
     "name": "stdin",
     "output_type": "stream",
     "text": [
      "Number of rows: 2\n",
      "Number of cols: 3\n",
      "Vuvedi edin element 1\n",
      "Vuvedi edin element 2\n",
      "Vuvedi edin element 3\n",
      "Vuvedi edin element 4\n",
      "Vuvedi edin element 5\n",
      "Vuvedi edin element 6\n"
     ]
    }
   ],
   "source": [
    "#Нека за целта на операците потребителят зададе матрицата\n",
    "rows = int(input(\"Number of rows:\"))\n",
    "cols = int(input(\"Number of cols:\"))\n",
    "\n",
    "matrixx = []\n",
    "for i in range(rows):\n",
    "    elements = []\n",
    "    for j in range(cols):\n",
    "        element = int(input(\"Vuvedi edin element\"))\n",
    "        elements.append(element)\n",
    "    matrixx.append(elements)\n",
    "matrix = np.array(matrix)"
   ]
  },
  {
   "cell_type": "markdown",
   "id": "39a3e7ea-7d73-4cd5-ae96-2827ae008108",
   "metadata": {},
   "source": [
    "## Сега нека разгледаме основни операции с матрици"
   ]
  },
  {
   "cell_type": "markdown",
   "id": "67c0a883-dfea-4819-b147-492737e3319e",
   "metadata": {},
   "source": [
    "### достъп до някой елеменит в границите на матрицата"
   ]
  },
  {
   "cell_type": "code",
   "execution_count": 65,
   "id": "1c5dbc10-e36e-4291-9b55-e85e31ca5602",
   "metadata": {},
   "outputs": [
    {
     "name": "stdout",
     "output_type": "stream",
     "text": [
      "2\n"
     ]
    }
   ],
   "source": [
    "print(matrix[0][1])"
   ]
  },
  {
   "cell_type": "markdown",
   "id": "f393f822-5e7e-4bbe-9cf8-336c0e6b67dc",
   "metadata": {},
   "source": [
    "## сумиране на eлементите в една матрица\n",
    "### първо създаваме още една матрица:"
   ]
  },
  {
   "cell_type": "code",
   "execution_count": 67,
   "id": "199f4b70-f837-482e-bc60-04f557322dbd",
   "metadata": {},
   "outputs": [
    {
     "name": "stdin",
     "output_type": "stream",
     "text": [
      "Number of rows: 3\n",
      "Number of cols: 4\n",
      "Vuvedi edin element 5\n",
      "Vuvedi edin element 6\n",
      "Vuvedi edin element 7\n",
      "Vuvedi edin element 8\n",
      "Vuvedi edin element 3\n",
      "Vuvedi edin element 1\n",
      "Vuvedi edin element 4\n",
      "Vuvedi edin element 6\n",
      "Vuvedi edin element 8\n",
      "Vuvedi edin element 3\n",
      "Vuvedi edin element 6\n",
      "Vuvedi edin element 2\n"
     ]
    }
   ],
   "source": [
    "rows = int(input(\"Number of rows:\"))\n",
    "cols = int(input(\"Number of cols:\"))\n",
    "\n",
    "matrixx2 = []\n",
    "for i in range(rows):\n",
    "    elements = []\n",
    "    for j in range(cols):\n",
    "        element = int(input(\"Vuvedi edin element\"))\n",
    "        elements.append(element)\n",
    "    matrixx2.append(elements)\n",
    "matrix2 = np.array(matrixx2)"
   ]
  },
  {
   "cell_type": "code",
   "execution_count": 69,
   "id": "6f026d1b-0794-488c-a788-e3126ae82bf6",
   "metadata": {},
   "outputs": [
    {
     "name": "stdout",
     "output_type": "stream",
     "text": [
      "[[1 2 3]\n",
      " [4 5 6]] [[5 6 7 8]\n",
      " [3 1 4 6]\n",
      " [8 3 6 2]]\n"
     ]
    }
   ],
   "source": [
    "print(matrix,matrix2)"
   ]
  },
  {
   "cell_type": "markdown",
   "id": "937897be-f2db-4626-acab-11ba30261eb6",
   "metadata": {},
   "source": [
    "### Сума от елемените на първата и втората матрица\n"
   ]
  },
  {
   "cell_type": "code",
   "execution_count": 71,
   "id": "01134139-a088-4522-80fe-320831867b59",
   "metadata": {},
   "outputs": [
    {
     "name": "stdout",
     "output_type": "stream",
     "text": [
      "21\n",
      "59\n"
     ]
    }
   ],
   "source": [
    "#на първата\n",
    "sum_elements_matrix = np.sum(matrix)\n",
    "print(sum_elements_matrix)\n",
    "\n",
    "#на втората\n",
    "sum_elements_matrix2 = np.sum(matrix2)\n",
    "print(sum_elements_matrix2)"
   ]
  },
  {
   "cell_type": "markdown",
   "id": "ec82bf59-6841-4b0b-b56f-b1f663a22b81",
   "metadata": {},
   "source": [
    "## сума на матрици"
   ]
  },
  {
   "cell_type": "code",
   "execution_count": 80,
   "id": "373cfaab-aeb1-4d66-b6d6-43891f0e2aa6",
   "metadata": {},
   "outputs": [
    {
     "name": "stdout",
     "output_type": "stream",
     "text": [
      "[[ 4  6  8]\n",
      " [ 6  9 11]]\n"
     ]
    }
   ],
   "source": [
    "## Конкатенация на две матрици, но да са с еднакви размери\n",
    "m1 = np.array([[1,2,3],\n",
    "             [2,3,4]])\n",
    "m2 = np.array([[3,4,5],\n",
    "              [4,6,7]])\n",
    "\n",
    "new_matrix = m1+ m2\n",
    "print(new_matrix)"
   ]
  },
  {
   "cell_type": "markdown",
   "id": "9f8f0ec6-3099-46f8-ad14-8112afe757f6",
   "metadata": {},
   "source": [
    "## Връщане на матрица към масив"
   ]
  },
  {
   "cell_type": "code",
   "execution_count": 87,
   "id": "349c6dfd-d2e1-4690-9aed-c8fcb0d19e8d",
   "metadata": {},
   "outputs": [
    {
     "name": "stdout",
     "output_type": "stream",
     "text": [
      "[1 2 3 4 5 6]\n",
      "[1 2 3 2 3 4]\n"
     ]
    }
   ],
   "source": [
    "flatten_matrix = m1.flatten()\n",
    "print(matrix.flatten())\n",
    "print(flatten_matrix)"
   ]
  },
  {
   "cell_type": "markdown",
   "id": "392b2c9c-7907-49ea-8b8d-e952be75fced",
   "metadata": {},
   "source": [
    "## Умножение на матрици - резултатът е редове колкото първата и колони колкото втората матрица"
   ]
  },
  {
   "cell_type": "code",
   "execution_count": 90,
   "id": "71cf1c15-ad7e-4ca0-bb8e-3678037dafd0",
   "metadata": {},
   "outputs": [
    {
     "name": "stdout",
     "output_type": "stream",
     "text": [
      "[[35 17 33 26]\n",
      " [83 47 84 74]]\n"
     ]
    }
   ],
   "source": [
    "print(np.dot(matrix,matrix2))"
   ]
  },
  {
   "cell_type": "markdown",
   "id": "e87a11d0-dbf5-461f-ae99-0083efb813b5",
   "metadata": {},
   "source": [
    "## Умножение на матрици с еднакви размери"
   ]
  },
  {
   "cell_type": "code",
   "execution_count": 99,
   "id": "79a7806e-d1c5-4549-be29-6783dd6bb792",
   "metadata": {},
   "outputs": [
    {
     "name": "stdout",
     "output_type": "stream",
     "text": [
      "[[ 3  8 15]\n",
      " [ 8 18 28]]\n"
     ]
    }
   ],
   "source": [
    "print(m1*m2)"
   ]
  },
  {
   "cell_type": "markdown",
   "id": "b96f927e-150d-4a20-953a-f13e59b9d316",
   "metadata": {},
   "source": [
    "## Транспониране"
   ]
  },
  {
   "cell_type": "code",
   "execution_count": 107,
   "id": "c0caff05-05b0-455a-be0c-0cf929ce2501",
   "metadata": {},
   "outputs": [
    {
     "name": "stdout",
     "output_type": "stream",
     "text": [
      "[[1 4]\n",
      " [2 5]\n",
      " [3 6]]\n",
      "[[1 2 3]\n",
      " [4 5 6]]\n"
     ]
    }
   ],
   "source": [
    "transpose_matrix = np.transpose(matrix)\n",
    "print(transpose_matrix)\n",
    "print(matrix)"
   ]
  },
  {
   "cell_type": "markdown",
   "id": "5a9fce37-357a-4361-9af2-df1df78f0d8b",
   "metadata": {},
   "source": [
    "## Намиране на дискриминанта - САМО НА КВАДРАТНИ МАТРИЦИ"
   ]
  },
  {
   "cell_type": "code",
   "execution_count": 116,
   "id": "29e4b787-5d6e-4628-bba6-9c11d2eeefe8",
   "metadata": {},
   "outputs": [
    {
     "name": "stdout",
     "output_type": "stream",
     "text": [
      "-2\n"
     ]
    }
   ],
   "source": [
    "## с помощта на  np.linalg.det(matrix)\n",
    "m3 = np.array([[1, 2],\n",
    "             [3,4]])\n",
    "## знаем, че е ab - cd -> 4 - 6 = -2\n",
    "det_m3 = np.linalg.det(m3);\n",
    "print(int(det_m3))"
   ]
  },
  {
   "cell_type": "code",
   "execution_count": 141,
   "id": "45fff294-fe4a-4df2-8e7a-02e8b9455bb2",
   "metadata": {},
   "outputs": [
    {
     "name": "stdout",
     "output_type": "stream",
     "text": [
      "[[5 6 8]\n",
      " [0 5 3]\n",
      " [5 2 9]]\n",
      "85\n"
     ]
    }
   ],
   "source": [
    "## по-сложен пример, също е по този начин\n",
    "current_matrix = np.random.randint(0,10,(3,3));\n",
    "det_current = np.linalg.det(current_matrix)\n",
    "print(current_matrix)\n",
    "print(int(det_current))"
   ]
  },
  {
   "cell_type": "markdown",
   "id": "d3b158c2-b85f-4c3d-9d00-3d226518a9de",
   "metadata": {},
   "source": [
    "## Намиране на обратна матрица - само за матрици с положителна детерминанта и които са квадратни!!!"
   ]
  },
  {
   "cell_type": "code",
   "execution_count": 153,
   "id": "61ebd436-fe1d-4e5b-b8fb-9fded0df238a",
   "metadata": {},
   "outputs": [
    {
     "name": "stdout",
     "output_type": "stream",
     "text": [
      "[[-2.   1. ]\n",
      " [ 1.5 -0.5]]\n"
     ]
    }
   ],
   "source": [
    "## с помощта на np.linalg.inv(matrix)\n",
    "\n",
    "print(np.linalg.inv(m3))"
   ]
  },
  {
   "cell_type": "markdown",
   "id": "1f890f0b-104d-4501-8156-69fcf938f9b3",
   "metadata": {},
   "source": [
    "## Добра практика е да правим нужните проверки, за да НЕ гърми!\n"
   ]
  },
  {
   "cell_type": "code",
   "execution_count": 177,
   "id": "1a10f960-84e4-440b-9d8a-f4cfc32de843",
   "metadata": {
    "scrolled": true
   },
   "outputs": [],
   "source": [
    "##  например\n",
    "\n",
    "\n",
    "def is_square(matrix):\n",
    "    rows, cols = matrix.shape  # Получаваме размерите на матрицата\n",
    "    return rows == cols\n",
    "\n",
    "def has_positive_determinant(matrix):\n",
    "  if is_square(matrix):\n",
    "      det = np.linalg.det(matrix)\n",
    "      return det > 0\n",
    "  else :\n",
    "     raise ValueError(\"Не е квадратна матрица\")\n",
    "      "
   ]
  },
  {
   "cell_type": "code",
   "execution_count": 185,
   "id": "434b9f9a-27a2-4b91-b6a3-1aafbee5b945",
   "metadata": {},
   "outputs": [
    {
     "name": "stdout",
     "output_type": "stream",
     "text": [
      "NOT SQUARE\n"
     ]
    }
   ],
   "source": [
    "if is_square(matrix):\n",
    "    print(\"SQUARE\")\n",
    "else:\n",
    "    print(\"NOT SQUARE\")"
   ]
  },
  {
   "cell_type": "markdown",
   "id": "8f00b290-3f91-4632-bb81-7666032ff547",
   "metadata": {},
   "source": [
    "## Сума на диагоналите на матрица"
   ]
  },
  {
   "cell_type": "markdown",
   "id": "0773fe28-54f8-4fd3-8085-6941b699b31f",
   "metadata": {},
   "source": [
    "#### Правим го с Trace()\n",
    "#### dtype() - желан ретърн тип\n",
    "#### offset() - отдалечаване от главния диагонал\n"
   ]
  },
  {
   "cell_type": "code",
   "execution_count": 189,
   "id": "3252dd2a-c994-4763-9339-95c72c2d507f",
   "metadata": {},
   "outputs": [
    {
     "name": "stdout",
     "output_type": "stream",
     "text": [
      "6\n"
     ]
    }
   ],
   "source": [
    "#това ще отпечата по главния диагонал\n",
    "print(np.trace(matrix, dtype=int))"
   ]
  },
  {
   "cell_type": "code",
   "execution_count": 203,
   "id": "966179dc-ed55-4e77-bb16-4bb79add9489",
   "metadata": {},
   "outputs": [
    {
     "name": "stdout",
     "output_type": "stream",
     "text": [
      "14\n",
      "7\n",
      "11\n"
     ]
    }
   ],
   "source": [
    "# това печати с офсет\n",
    "matrix_current = np.array([[1,2,3],[3,4,5],[7,8,9]])\n",
    "print(np.trace(matrix_current, dtype=int))\n",
    "print(np.trace(matrix_current, offset=1,dtype=int)) ## нагоре от главния\n",
    "print(np.trace(matrix_current, offset=-1, dtype = int)) ## надолу от главния"
   ]
  },
  {
   "cell_type": "markdown",
   "id": "6af6f93b-8e7d-402b-984d-50d3b989aca7",
   "metadata": {},
   "source": [
    "## За умножение на многомерни матрици!! Използваме MATMUL(), а не DOT()\n"
   ]
  },
  {
   "cell_type": "markdown",
   "id": "3c8729d2-00df-4d18-9e5f-bcab95e71527",
   "metadata": {},
   "source": [
    "#### matmul() Arguments:\n",
    "#### first_matrix - represents the first matrix we want to multiply\n",
    "#### second_matrix - represents the second matrix we want to multiply\n",
    "#### out (optional) - allows us to specify a matrix where the result will be stored"
   ]
  },
  {
   "cell_type": "code",
   "execution_count": 212,
   "id": "e8aa4896-f730-4b9c-9fc3-3aaacd2bcccf",
   "metadata": {},
   "outputs": [
    {
     "name": "stdout",
     "output_type": "stream",
     "text": [
      "[[ 35  17  33  26]\n",
      " [ 67  37  67  58]\n",
      " [131  77 135 122]]\n"
     ]
    }
   ],
   "source": [
    "x = np.matmul(matrix,matrix2, out=None)\n",
    "print(x)"
   ]
  },
  {
   "cell_type": "code",
   "execution_count": null,
   "id": "c277cfed-677c-45b3-afdc-bf0e587a2524",
   "metadata": {},
   "outputs": [],
   "source": []
  }
 ],
 "metadata": {
  "kernelspec": {
   "display_name": "Python 3 (ipykernel)",
   "language": "python",
   "name": "python3"
  },
  "language_info": {
   "codemirror_mode": {
    "name": "ipython",
    "version": 3
   },
   "file_extension": ".py",
   "mimetype": "text/x-python",
   "name": "python",
   "nbconvert_exporter": "python",
   "pygments_lexer": "ipython3",
   "version": "3.12.4"
  }
 },
 "nbformat": 4,
 "nbformat_minor": 5
}
