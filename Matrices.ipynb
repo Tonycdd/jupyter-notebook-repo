{
 "cells": [
  {
   "cell_type": "markdown",
   "id": "018f114e-fe4f-4338-b8a2-81d297975a72",
   "metadata": {},
   "source": [
    "# Представяне на матрици\n"
   ]
  },
  {
   "cell_type": "code",
   "execution_count": 2,
   "id": "47e1cb16-5d24-4028-b7e8-ccfbfada9b3a",
   "metadata": {},
   "outputs": [],
   "source": [
    "import numpy as np"
   ]
  },
  {
   "cell_type": "code",
   "execution_count": 10,
   "id": "5eee969a-5887-4f8f-86eb-025e36ddc595",
   "metadata": {},
   "outputs": [],
   "source": [
    "matrix = np.array([[1,2,3],\n",
    "                 [3,4,5],\n",
    "                 [6,7,8]])\n"
   ]
  },
  {
   "cell_type": "markdown",
   "id": "98531a9a-b779-4e6c-8acf-4f0bd9dbebe0",
   "metadata": {},
   "source": [
    "## Как да ги принтираме?"
   ]
  },
  {
   "cell_type": "markdown",
   "id": "587a52a7-e659-40c5-a95c-84baabf4f12e",
   "metadata": {},
   "source": [
    "~два начина:"
   ]
  },
  {
   "cell_type": "code",
   "execution_count": 14,
   "id": "dcac8224-120b-40b7-948f-63fa78544e54",
   "metadata": {},
   "outputs": [
    {
     "name": "stdout",
     "output_type": "stream",
     "text": [
      "[[1 2 3]\n",
      " [3 4 5]\n",
      " [6 7 8]]\n"
     ]
    }
   ],
   "source": [
    "print(matrix)"
   ]
  },
  {
   "cell_type": "markdown",
   "id": "6a28572e-ffcb-4be3-8283-2bb4006dc852",
   "metadata": {},
   "source": [
    "## Печатане на всички елеменити на матрицата"
   ]
  },
  {
   "cell_type": "code",
   "execution_count": 21,
   "id": "0714ad70-28d7-4b0d-97c8-24c9ea3fc2a0",
   "metadata": {},
   "outputs": [
    {
     "name": "stdout",
     "output_type": "stream",
     "text": [
      "1\n",
      "2\n",
      "3\n",
      "3\n",
      "4\n",
      "5\n",
      "6\n",
      "7\n",
      "8\n"
     ]
    }
   ],
   "source": [
    "for row in matrix:\n",
    "    for x in row:\n",
    "        print(x)"
   ]
  },
  {
   "cell_type": "code",
   "execution_count": 39,
   "id": "c248c2ee-8aeb-463e-8174-af59805bd561",
   "metadata": {},
   "outputs": [
    {
     "name": "stdout",
     "output_type": "stream",
     "text": [
      "[1 2 3]\n",
      "[3 4 5]\n",
      "[6 7 8]\n"
     ]
    }
   ],
   "source": [
    "for row in matrix:\n",
    "    print(row)"
   ]
  },
  {
   "cell_type": "code",
   "execution_count": 41,
   "id": "327b5d65-0103-410b-9551-ecfb759963c9",
   "metadata": {},
   "outputs": [
    {
     "name": "stdout",
     "output_type": "stream",
     "text": [
      "1 2 3 \n",
      "3 4 5 \n",
      "6 7 8 \n"
     ]
    }
   ],
   "source": [
    "for row in matrix:\n",
    "    for element in row:\n",
    "        print(element, end=\" \")\n",
    "    print()"
   ]
  },
  {
   "cell_type": "markdown",
   "id": "c821ec72-2f4e-44f6-b764-ea2aa2a3f258",
   "metadata": {},
   "source": [
    "## Втори начин за зададени от потребителя матрици!"
   ]
  },
  {
   "cell_type": "code",
   "execution_count": 56,
   "id": "04e4a12e-a682-46fb-885a-4ad952722079",
   "metadata": {},
   "outputs": [
    {
     "name": "stdin",
     "output_type": "stream",
     "text": [
      "Моля въведи брой редове:  2\n",
      "Моля въведи брой колони:  3\n",
      "Въведи елемент за ред 1, колона 1:  1\n",
      "Въведи елемент за ред 1, колона 2:  2\n",
      "Въведи елемент за ред 1, колона 3:  3\n",
      "Въведи елемент за ред 2, колона 1:  4\n",
      "Въведи елемент за ред 2, колона 2:  5\n",
      "Въведи елемент за ред 2, колона 3:  6\n"
     ]
    },
    {
     "name": "stdout",
     "output_type": "stream",
     "text": [
      "[[1 2 3]\n",
      " [4 5 6]]\n"
     ]
    }
   ],
   "source": [
    "# създаваме празна матрица\n",
    "matrix = []\n",
    "\n",
    "# задават се брой редове и колони\n",
    "matrix_rows = int(input(\"Моля въведи брой редове: \"))\n",
    "matrix_cols = int(input(\"Моля въведи брой колони: \"))\n",
    "\n",
    "# Въвеждаме елементите на всеки ред и ги добавяме към списъка\n",
    "for i in range(matrix_rows):\n",
    "    row = []  # Създаваме нов списък за текущия ред\n",
    "    for j in range(matrix_cols):\n",
    "        element = int(input(f\"Въведи елемент за ред {i+1}, колона {j+1}: \"))\n",
    "        row.append(element)  # Добавяме елемента към текущия ред\n",
    "    matrix.append(row)  # Добавяме целия ред към матрицата\n",
    "\n",
    "final_matrix = np.array(matrix)\n",
    "print(final_matrix);"
   ]
  },
  {
   "cell_type": "markdown",
   "id": "1d79bd0f-9c07-4a27-81a8-c28f95201054",
   "metadata": {},
   "source": [
    "# Специални матрици от NumPy\n"
   ]
  },
  {
   "cell_type": "markdown",
   "id": "fc2ae2a8-fe7b-4fe7-a3b3-22a5afd04227",
   "metadata": {},
   "source": [
    "## Единична матрица"
   ]
  },
  {
   "cell_type": "code",
   "execution_count": 67,
   "id": "71c0222e-1f5d-4a1c-ac5c-04ff9aad7e8e",
   "metadata": {},
   "outputs": [
    {
     "name": "stdout",
     "output_type": "stream",
     "text": [
      "[[1. 0. 0.]\n",
      " [0. 1. 0.]\n",
      " [0. 0. 1.]]\n"
     ]
    }
   ],
   "source": [
    "# Задава се матрица 3х3, може да бъде и друго число,но положително\n",
    "identity_matrix = np.eye(3)\n",
    "print(identity_matrix)\n",
    "\n",
    "## НЕВАЛИДНО \n",
    "##identity_matrix2 = np.eye(-1)\n",
    "##print(identity_matrix2)"
   ]
  },
  {
   "cell_type": "markdown",
   "id": "6505c08a-4b63-428c-918f-00f94005b86d",
   "metadata": {},
   "source": [
    "## Матрица,която е само с 1 или 0;"
   ]
  },
  {
   "cell_type": "code",
   "execution_count": 76,
   "id": "93d6e8ac-7f9b-4726-bb3c-c2bffb3b49a7",
   "metadata": {},
   "outputs": [
    {
     "name": "stdout",
     "output_type": "stream",
     "text": [
      "[[1. 1.]\n",
      " [1. 1.]\n",
      " [1. 1.]]\n"
     ]
    }
   ],
   "source": [
    "matrix_ones = np.ones((3,2));\n",
    "print(matrix_ones)"
   ]
  },
  {
   "cell_type": "code",
   "execution_count": 80,
   "id": "ec9cb7de-601a-4515-a70d-cb049277af78",
   "metadata": {},
   "outputs": [
    {
     "name": "stdout",
     "output_type": "stream",
     "text": [
      "[[0. 0. 0. 0.]\n",
      " [0. 0. 0. 0.]\n",
      " [0. 0. 0. 0.]]\n"
     ]
    }
   ],
   "source": [
    "matrix_zeros = np.zeros((3,4))\n",
    "print(matrix_zeros)"
   ]
  },
  {
   "cell_type": "markdown",
   "id": "718c52d3-127e-46f0-92b1-432d2c76b225",
   "metadata": {},
   "source": [
    "## Матрици, с random стойноси"
   ]
  },
  {
   "cell_type": "code",
   "execution_count": 93,
   "id": "2f09c359-0504-419c-bd0c-625829ca44e0",
   "metadata": {},
   "outputs": [
    {
     "name": "stdout",
     "output_type": "stream",
     "text": [
      "[[6.32157887 3.60535219 0.89036424]\n",
      " [9.23647435 0.35311116 7.06887288]\n",
      " [0.15996252 5.61836315 4.56076609]]\n"
     ]
    }
   ],
   "source": [
    "matrix = np.random.rand(3,3) * 10;\n",
    "print(matrix)"
   ]
  },
  {
   "cell_type": "markdown",
   "id": "5d59b0ab-e4c5-4a46-8521-a5892bddffda",
   "metadata": {},
   "source": [
    "### Това е по-полезен начин, защото може да се задава и произволен интервал от стойности"
   ]
  },
  {
   "cell_type": "code",
   "execution_count": 98,
   "id": "eeb5a6e8-55e1-49e9-888d-cabd3f54b650",
   "metadata": {},
   "outputs": [
    {
     "name": "stdout",
     "output_type": "stream",
     "text": [
      "[[ 0 -1]\n",
      " [11  3]\n",
      " [ 9  1]]\n"
     ]
    }
   ],
   "source": [
    "matrix = np.random.randint(-1, 12,(3,2))\n",
    "print(matrix)"
   ]
  },
  {
   "cell_type": "code",
   "execution_count": null,
   "id": "b7ace875-773b-4069-b79d-1ef3b24f9f5b",
   "metadata": {},
   "outputs": [],
   "source": []
  }
 ],
 "metadata": {
  "kernelspec": {
   "display_name": "Python 3 (ipykernel)",
   "language": "python",
   "name": "python3"
  },
  "language_info": {
   "codemirror_mode": {
    "name": "ipython",
    "version": 3
   },
   "file_extension": ".py",
   "mimetype": "text/x-python",
   "name": "python",
   "nbconvert_exporter": "python",
   "pygments_lexer": "ipython3",
   "version": "3.12.4"
  }
 },
 "nbformat": 4,
 "nbformat_minor": 5
}
